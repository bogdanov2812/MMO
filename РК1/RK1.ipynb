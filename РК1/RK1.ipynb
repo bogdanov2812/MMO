{
 "cells": [
  {
   "cell_type": "markdown",
   "id": "a382c261-4794-4e92-ab44-77cebf19717e",
   "metadata": {},
   "source": [
    "РК №1 Богданов Д.А. Вариант №3"
   ]
  },
  {
   "cell_type": "code",
   "execution_count": null,
   "id": "baf8d255-ee6c-4f88-91f7-43f0723c953c",
   "metadata": {},
   "outputs": [],
   "source": [
    "import numpy as np\n",
    "import pandas as pd\n",
    "import matplotlib.pyplot as plt\n",
    "import seaborn as sns\n",
    "%matplotlib inline\n",
    "import category_encoders as ce"
   ]
  },
  {
   "cell_type": "code",
   "execution_count": 63,
   "id": "5b8c6020-2b2d-47aa-915d-b74e884c2e84",
   "metadata": {},
   "outputs": [],
   "source": [
    "data = pd.read_csv('gender_classification_v7.csv')"
   ]
  },
  {
   "cell_type": "code",
   "execution_count": 64,
   "id": "bdefdbb5-74ae-4615-9bb3-4ca80fd01c75",
   "metadata": {},
   "outputs": [
    {
     "data": {
      "text/plain": [
       "(5001, 8)"
      ]
     },
     "execution_count": 64,
     "metadata": {},
     "output_type": "execute_result"
    }
   ],
   "source": [
    "data.shape"
   ]
  },
  {
   "cell_type": "code",
   "execution_count": 65,
   "id": "d606f48e-1793-4777-baa9-ac5aff5c61ae",
   "metadata": {},
   "outputs": [
    {
     "data": {
      "text/plain": [
       "<bound method NDFrame.head of       long_hair  forehead_width_cm  forehead_height_cm  nose_wide  nose_long  \\\n",
       "0             1               11.8                 6.1          1          0   \n",
       "1             0               14.0                 5.4          0          0   \n",
       "2             0               11.8                 6.3          1          1   \n",
       "3             0               14.4                 6.1          0          1   \n",
       "4             1               13.5                 5.9          0          0   \n",
       "...         ...                ...                 ...        ...        ...   \n",
       "4996          1               13.6                 5.1          0          0   \n",
       "4997          1               11.9                 5.4          0          0   \n",
       "4998          1               12.9                 5.7          0          0   \n",
       "4999          1               13.2                 6.2          0          0   \n",
       "5000          1               15.4                 5.4          1          1   \n",
       "\n",
       "      lips_thin  distance_nose_to_lip_long  gender  \n",
       "0             1                          1    Male  \n",
       "1             1                          0  Female  \n",
       "2             1                          1    Male  \n",
       "3             1                          1    Male  \n",
       "4             0                          0  Female  \n",
       "...         ...                        ...     ...  \n",
       "4996          0                          0  Female  \n",
       "4997          0                          0  Female  \n",
       "4998          0                          0  Female  \n",
       "4999          0                          0  Female  \n",
       "5000          1                          1    Male  \n",
       "\n",
       "[5001 rows x 8 columns]>"
      ]
     },
     "execution_count": 65,
     "metadata": {},
     "output_type": "execute_result"
    }
   ],
   "source": [
    "data.head"
   ]
  },
  {
   "cell_type": "markdown",
   "id": "27a8d55f-992e-40e3-94b4-982e9f67d84a",
   "metadata": {},
   "source": [
    "Для студентов группы ИУ5-24М, ИУ5И-24М - для произвольной колонки данных построить график \"Скрипичная диаграмма (violin plot)\"."
   ]
  },
  {
   "cell_type": "code",
   "execution_count": 67,
   "id": "fffd676b-d41b-4470-932d-17f67f91939c",
   "metadata": {},
   "outputs": [
    {
     "data": {
      "text/plain": [
       "<AxesSubplot:xlabel='forehead_width_cm'>"
      ]
     },
     "execution_count": 67,
     "metadata": {},
     "output_type": "execute_result"
    },
    {
     "data": {
      "image/png": "[encoded data removed]",
      "text/plain": [
       "<Figure size 432x288 with 1 Axes>"
      ]
     },
     "metadata": {
      "needs_background": "light"
     },
     "output_type": "display_data"
    }
   ],
   "source": [
    "sns.violinplot(x = data['forehead_width_cm'])"
   ]
  },
  {
   "cell_type": "markdown",
   "id": "93d85874-4328-47c6-8407-808a42b75622",
   "metadata": {},
   "source": [
    "Задача №1. Для набора данных проведите кодирование одного (произвольного) категориального признака с использованием метода \"weight of evidence (WoE) encoding\"."
   ]
  },
  {
   "cell_type": "code",
   "execution_count": 68,
   "id": "c902d97f-8b0a-44a9-9c21-bcae8b49cc55",
   "metadata": {},
   "outputs": [
    {
     "data": {
      "text/plain": [
       "long_hair                    0\n",
       "forehead_width_cm            0\n",
       "forehead_height_cm           0\n",
       "nose_wide                    0\n",
       "nose_long                    0\n",
       "lips_thin                    0\n",
       "distance_nose_to_lip_long    0\n",
       "gender                       0\n",
       "dtype: int64"
      ]
     },
     "execution_count": 68,
     "metadata": {},
     "output_type": "execute_result"
    }
   ],
   "source": [
    "data.isnull().sum()"
   ]
  },
  {
   "cell_type": "code",
   "execution_count": 70,
   "id": "186310d1-0899-4261-8abc-b3318b4541c6",
   "metadata": {},
   "outputs": [],
   "source": [
    "from category_encoders.woe import WOEEncoder as ce_WOEEncoder"
   ]
  },
  {
   "cell_type": "code",
   "execution_count": 71,
   "id": "a2e16aa8-231c-426f-b497-4b1101559de0",
   "metadata": {},
   "outputs": [],
   "source": [
    "ce_WOEEncoder1 = ce_WOEEncoder()\n",
    "data_WOE_ENC = ce_WOEEncoder1.fit_transform(data[data.columns.difference(['nose_wide'])], data['nose_wide'])"
   ]
  },
  {
   "cell_type": "code",
   "execution_count": 72,
   "id": "ba24b3d4-ca25-4904-8884-cbefeddc48c0",
   "metadata": {},
   "outputs": [
    {
     "data": {
      "text/html": [
       "<div>\n",
       "<style scoped>\n",
       "    .dataframe tbody tr th:only-of-type {\n",
       "        vertical-align: middle;\n",
       "    }\n",
       "\n",
       "    .dataframe tbody tr th {\n",
       "        vertical-align: top;\n",
       "    }\n",
       "\n",
       "    .dataframe thead th {\n",
       "        text-align: right;\n",
       "    }\n",
       "</style>\n",
       "<table border=\"1\" class=\"dataframe\">\n",
       "  <thead>\n",
       "    <tr style=\"text-align: right;\">\n",
       "      <th></th>\n",
       "      <th>distance_nose_to_lip_long</th>\n",
       "      <th>forehead_height_cm</th>\n",
       "      <th>forehead_width_cm</th>\n",
       "      <th>gender</th>\n",
       "      <th>lips_thin</th>\n",
       "      <th>long_hair</th>\n",
       "      <th>nose_long</th>\n",
       "    </tr>\n",
       "  </thead>\n",
       "  <tbody>\n",
       "    <tr>\n",
       "      <th>0</th>\n",
       "      <td>1</td>\n",
       "      <td>6.1</td>\n",
       "      <td>11.8</td>\n",
       "      <td>1.951239</td>\n",
       "      <td>1</td>\n",
       "      <td>1</td>\n",
       "      <td>0</td>\n",
       "    </tr>\n",
       "    <tr>\n",
       "      <th>1</th>\n",
       "      <td>0</td>\n",
       "      <td>5.4</td>\n",
       "      <td>14.0</td>\n",
       "      <td>-2.015670</td>\n",
       "      <td>1</td>\n",
       "      <td>0</td>\n",
       "      <td>0</td>\n",
       "    </tr>\n",
       "    <tr>\n",
       "      <th>2</th>\n",
       "      <td>1</td>\n",
       "      <td>6.3</td>\n",
       "      <td>11.8</td>\n",
       "      <td>1.951239</td>\n",
       "      <td>1</td>\n",
       "      <td>0</td>\n",
       "      <td>1</td>\n",
       "    </tr>\n",
       "    <tr>\n",
       "      <th>3</th>\n",
       "      <td>1</td>\n",
       "      <td>6.1</td>\n",
       "      <td>14.4</td>\n",
       "      <td>1.951239</td>\n",
       "      <td>1</td>\n",
       "      <td>0</td>\n",
       "      <td>1</td>\n",
       "    </tr>\n",
       "    <tr>\n",
       "      <th>4</th>\n",
       "      <td>0</td>\n",
       "      <td>5.9</td>\n",
       "      <td>13.5</td>\n",
       "      <td>-2.015670</td>\n",
       "      <td>0</td>\n",
       "      <td>1</td>\n",
       "      <td>0</td>\n",
       "    </tr>\n",
       "    <tr>\n",
       "      <th>...</th>\n",
       "      <td>...</td>\n",
       "      <td>...</td>\n",
       "      <td>...</td>\n",
       "      <td>...</td>\n",
       "      <td>...</td>\n",
       "      <td>...</td>\n",
       "      <td>...</td>\n",
       "    </tr>\n",
       "    <tr>\n",
       "      <th>4996</th>\n",
       "      <td>0</td>\n",
       "      <td>5.1</td>\n",
       "      <td>13.6</td>\n",
       "      <td>-2.015670</td>\n",
       "      <td>0</td>\n",
       "      <td>1</td>\n",
       "      <td>0</td>\n",
       "    </tr>\n",
       "    <tr>\n",
       "      <th>4997</th>\n",
       "      <td>0</td>\n",
       "      <td>5.4</td>\n",
       "      <td>11.9</td>\n",
       "      <td>-2.015670</td>\n",
       "      <td>0</td>\n",
       "      <td>1</td>\n",
       "      <td>0</td>\n",
       "    </tr>\n",
       "    <tr>\n",
       "      <th>4998</th>\n",
       "      <td>0</td>\n",
       "      <td>5.7</td>\n",
       "      <td>12.9</td>\n",
       "      <td>-2.015670</td>\n",
       "      <td>0</td>\n",
       "      <td>1</td>\n",
       "      <td>0</td>\n",
       "    </tr>\n",
       "    <tr>\n",
       "      <th>4999</th>\n",
       "      <td>0</td>\n",
       "      <td>6.2</td>\n",
       "      <td>13.2</td>\n",
       "      <td>-2.015670</td>\n",
       "      <td>0</td>\n",
       "      <td>1</td>\n",
       "      <td>0</td>\n",
       "    </tr>\n",
       "    <tr>\n",
       "      <th>5000</th>\n",
       "      <td>1</td>\n",
       "      <td>5.4</td>\n",
       "      <td>15.4</td>\n",
       "      <td>1.951239</td>\n",
       "      <td>1</td>\n",
       "      <td>1</td>\n",
       "      <td>1</td>\n",
       "    </tr>\n",
       "  </tbody>\n",
       "</table>\n",
       "<p>5001 rows × 7 columns</p>\n",
       "</div>"
      ],
      "text/plain": [
       "      distance_nose_to_lip_long  forehead_height_cm  forehead_width_cm  \\\n",
       "0                             1                 6.1               11.8   \n",
       "1                             0                 5.4               14.0   \n",
       "2                             1                 6.3               11.8   \n",
       "3                             1                 6.1               14.4   \n",
       "4                             0                 5.9               13.5   \n",
       "...                         ...                 ...                ...   \n",
       "4996                          0                 5.1               13.6   \n",
       "4997                          0                 5.4               11.9   \n",
       "4998                          0                 5.7               12.9   \n",
       "4999                          0                 6.2               13.2   \n",
       "5000                          1                 5.4               15.4   \n",
       "\n",
       "        gender  lips_thin  long_hair  nose_long  \n",
       "0     1.951239          1          1          0  \n",
       "1    -2.015670          1          0          0  \n",
       "2     1.951239          1          0          1  \n",
       "3     1.951239          1          0          1  \n",
       "4    -2.015670          0          1          0  \n",
       "...        ...        ...        ...        ...  \n",
       "4996 -2.015670          0          1          0  \n",
       "4997 -2.015670          0          1          0  \n",
       "4998 -2.015670          0          1          0  \n",
       "4999 -2.015670          0          1          0  \n",
       "5000  1.951239          1          1          1  \n",
       "\n",
       "[5001 rows x 7 columns]"
      ]
     },
     "execution_count": 72,
     "metadata": {},
     "output_type": "execute_result"
    }
   ],
   "source": [
    "data_WOE_ENC"
   ]
  },
  {
   "cell_type": "code",
   "execution_count": 77,
   "id": "61e5f839-87e0-425b-b0a9-0b8726fbe23f",
   "metadata": {},
   "outputs": [
    {
     "data": {
      "text/plain": [
       "array(['Male', 'Female'], dtype=object)"
      ]
     },
     "execution_count": 77,
     "metadata": {},
     "output_type": "execute_result"
    }
   ],
   "source": [
    "# Проверка поля Gender\n",
    "data['gender'].unique()"
   ]
  },
  {
   "cell_type": "code",
   "execution_count": 78,
   "id": "35fd8a15-cea2-40a5-a69c-efa2cbfa46ac",
   "metadata": {},
   "outputs": [
    {
     "data": {
      "text/plain": [
       "array([ 1.95123879, -2.01567037])"
      ]
     },
     "execution_count": 78,
     "metadata": {},
     "output_type": "execute_result"
    }
   ],
   "source": [
    "data_WOE_ENC['gender'].unique()"
   ]
  },
  {
   "cell_type": "code",
   "execution_count": 79,
   "id": "6716f07e-18e2-408e-97e1-a71af4d29a84",
   "metadata": {},
   "outputs": [],
   "source": [
    "def check_woe_encoding(field):\n",
    "    data_ones = data[data['nose_wide'] == 1].shape[0]\n",
    "    data_zeros = data[data['nose_wide'] == 0].shape[0]\n",
    "    \n",
    "    for s in data[field].unique():\n",
    "        data_filter = data[data[field]==s]\n",
    "        if data_filter.shape[0] > 0:\n",
    "            \n",
    "            filter_data_ones = data_filter[data_filter['nose_wide'] == 1].shape[0]\n",
    "            filter_data_zeros = data_filter[data_filter['nose_wide'] == 0].shape[0]\n",
    "\n",
    "            good = filter_data_ones / data_ones\n",
    "            bad = filter_data_zeros / data_zeros\n",
    "            \n",
    "            woe = np.log(good/bad)\n",
    "            print(s, '-' , woe)"
   ]
  },
  {
   "cell_type": "code",
   "execution_count": 80,
   "id": "8a79ede2-e57b-4062-b128-7081bdd42401",
   "metadata": {},
   "outputs": [
    {
     "name": "stdout",
     "output_type": "stream",
     "text": [
      "Male - 1.9539499135957643\n",
      "Female - -2.01867756658586\n"
     ]
    }
   ],
   "source": [
    "check_woe_encoding('gender')"
   ]
  },
  {
   "cell_type": "markdown",
   "id": "cfbf83fb-302c-48fd-9d1e-254ad9efe7e1",
   "metadata": {},
   "source": [
    "Задача №23.\n",
    "Для набора данных для одного (произвольного) числового признака проведите обнаружение и удаление выбросов на основе правила трех сигм."
   ]
  },
  {
   "cell_type": "code",
   "execution_count": 95,
   "id": "049d106f-902a-4b88-ab21-f424f7f6d40e",
   "metadata": {},
   "outputs": [],
   "source": [
    "data = pd.read_csv('telecom_churn.csv')"
   ]
  },
  {
   "cell_type": "code",
   "execution_count": 96,
   "id": "abdac373-0ec7-42f7-ac5b-dec26d84ce8b",
   "metadata": {},
   "outputs": [
    {
     "data": {
      "text/plain": [
       "<AxesSubplot:>"
      ]
     },
     "execution_count": 96,
     "metadata": {},
     "output_type": "execute_result"
    },
    {
     "data": {
      "image/png": "[encoded data removed]",
      "text/plain": [
       "<Figure size 720x504 with 1 Axes>"
      ]
     },
     "metadata": {
      "needs_background": "light"
     },
     "output_type": "display_data"
    }
   ],
   "source": [
    "fig, ax = plt.subplots(figsize=(10,7))\n",
    "plt.subplot(2, 2, 1)\n",
    "data['account length'].hist(bins=10)"
   ]
  },
  {
   "cell_type": "code",
   "execution_count": 97,
   "id": "350ef2c7-89dd-47a5-9ee6-14d8bc3b49b0",
   "metadata": {},
   "outputs": [],
   "source": [
    "def get_outlier_boundaries(df, col):\n",
    "    K1 = 3\n",
    "    lower_boundary = df[col].mean() - (K1 * df[col].std())\n",
    "    upper_boundary = df[col].mean() + (K1 * df[col].std())\n",
    "    return lower_boundary, upper_boundary"
   ]
  },
  {
   "cell_type": "code",
   "execution_count": 98,
   "id": "86aaa424-b336-4761-8138-0339f631065d",
   "metadata": {},
   "outputs": [],
   "source": [
    "lower_boundary, upper_boundary = get_outlier_boundaries(data, 'account length')\n",
    "outliers_temp = np.where(data['account length'] > upper_boundary, True, \n",
    "                                 np.where(data['account length'] < lower_boundary, True, False))\n",
    "data_trimmed = data.loc[~(outliers_temp), ]"
   ]
  },
  {
   "cell_type": "code",
   "execution_count": 99,
   "id": "38970968-3b42-4637-9f98-ce70dd8e1664",
   "metadata": {},
   "outputs": [
    {
     "data": {
      "text/plain": [
       "<AxesSubplot:>"
      ]
     },
     "execution_count": 99,
     "metadata": {},
     "output_type": "execute_result"
    },
    {
     "data": {
      "image/png": "[encoded data removed]",
      "text/plain": [
       "<Figure size 720x504 with 1 Axes>"
      ]
     },
     "metadata": {
      "needs_background": "light"
     },
     "output_type": "display_data"
    }
   ],
   "source": [
    "fig, ax = plt.subplots(figsize=(10,7))\n",
    "plt.subplot(2, 2, 1)\n",
    "data_trimmed['account length'].hist(bins=10)"
   ]
  },
  {
   "cell_type": "code",
   "execution_count": null,
   "id": "b5cceb16-6b2b-4801-ad82-8e397c2ec4e8",
   "metadata": {},
   "outputs": [],
   "source": []
  }
 ],
 "metadata": {
  "kernelspec": {
   "display_name": "Python 3 (ipykernel)",
   "language": "python",
   "name": "python3"
  },
  "language_info": {
   "codemirror_mode": {
    "name": "ipython",
    "version": 3
   },
   "file_extension": ".py",
   "mimetype": "text/x-python",
   "name": "python",
   "nbconvert_exporter": "python",
   "pygments_lexer": "ipython3",
   "version": "3.9.7"
  }
 },
 "nbformat": 4,
 "nbformat_minor": 5
}
