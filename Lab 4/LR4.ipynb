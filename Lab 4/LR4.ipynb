{
  "cells": [
    {
      "cell_type": "markdown",
      "id": "e3905766",
      "metadata": {
        "id": "e3905766"
      },
      "source": [
        "## МГТУ им. Н. Э. Баумана\n",
        "## Факультет: Информатика, искусственный интеллект и системы управления\n",
        "## Кафедра: Системы обработки информации и управления\n",
        "## Дисциплина: Методы машинного обучения\n",
        "## Лабораторная работа №4 \"Создание рекомендательной модели\"\n",
        "## Выполнил: Богданов Д. А. ИУ5-24М"
      ]
    },
    {
      "cell_type": "markdown",
      "id": "404b35d3",
      "metadata": {
        "id": "404b35d3"
      },
      "source": [
        "Задание:\n",
        "\n",
        "1. Выбрать произвольный набор данных (датасет), предназначенный для построения рекомендательных моделей.\n",
        "2. Опираясь на материалы лекции, сформировать рекомендации для одного пользователя (объекта) двумя произвольными способами.\n",
        "3. Сравнить полученные рекомендации (если это возможно, то с применением метрик)."
      ]
    },
    {
      "cell_type": "code",
      "execution_count": 2,
      "id": "c305a8dd",
      "metadata": {
        "id": "c305a8dd"
      },
      "outputs": [],
      "source": [
        "import numpy as np\n",
        "import pandas as pd\n",
        "import seaborn as sns\n",
        "import datetime\n",
        "import matplotlib.pyplot as plt\n",
        "from sklearn.svm import SVR\n",
        "from sklearn.impute import SimpleImputer\n",
        "from sklearn.feature_extraction.text import CountVectorizer, TfidfVectorizer\n",
        "from sklearn.impute import MissingIndicator\n",
        "from sklearn.impute import KNNImputer\n",
        "from sklearn.neighbors import KNeighborsClassifier\n",
        "from sklearn.neighbors import KNeighborsRegressor\n",
        "from sklearn.preprocessing import StandardScaler\n",
        "from sklearn.preprocessing import LabelEncoder\n",
        "from sklearn.preprocessing import OneHotEncoder\n",
        "from sklearn.pipeline import Pipeline\n",
        "from sklearn.model_selection import GridSearchCV\n",
        "from sklearn.feature_selection import SelectFromModel\n",
        "from sklearn.linear_model import LogisticRegression\n",
        "from sklearn.experimental import enable_iterative_imputer\n",
        "from sklearn.impute import IterativeImputer\n",
        "from sklearn.datasets import load_wine\n",
        "from sklearn.datasets import load_linnerud\n",
        "from sklearn.model_selection import train_test_split\n",
        "from sklearn.preprocessing import RobustScaler\n",
        "from sklearn.feature_selection import mutual_info_classif, mutual_info_regression\n",
        "from sklearn.feature_selection import SelectKBest, SelectPercentile\n",
        "from sklearn.metrics.pairwise import cosine_similarity, euclidean_distances, manhattan_distances\n",
        "from IPython.display import Image\n",
        "import matplotlib.pyplot as plt\n",
        "import scipy.stats as stats\n",
        "%matplotlib inline \n",
        "sns.set(style=\"ticks\")"
      ]
    },
    {
      "cell_type": "code",
      "execution_count": 76,
      "id": "55f24873",
      "metadata": {
        "colab": {
          "base_uri": "https://localhost:8080/",
          "height": 206
        },
        "id": "55f24873",
        "outputId": "11e8f297-44c4-4fb4-acb8-ee418d4454d9"
      },
      "outputs": [
        {
          "output_type": "execute_result",
          "data": {
            "text/plain": [
              "                                   name        platform        release_date  \\\n",
              "0  The Legend of Zelda: Ocarina of Time     Nintendo 64   November 23, 1998   \n",
              "1              Tony Hawk's Pro Skater 2     PlayStation  September 20, 2000   \n",
              "2                   Grand Theft Auto IV   PlayStation 3      April 29, 2008   \n",
              "3                           SoulCalibur       Dreamcast   September 8, 1999   \n",
              "4                   Grand Theft Auto IV        Xbox 360      April 29, 2008   \n",
              "\n",
              "                                             summary  meta_score user_review  \n",
              "0  As a young boy, Link is tricked by Ganondorf, ...          99         9.1  \n",
              "1  As most major publishers' development efforts ...          98         7.4  \n",
              "2  [Metacritic's 2008 PS3 Game of the Year; Also ...          98         7.7  \n",
              "3  This is a tale of souls and swords, transcendi...          98         8.4  \n",
              "4  [Metacritic's 2008 Xbox 360 Game of the Year; ...          98         7.9  "
            ],
            "text/html": [
              "\n",
              "  <div id=\"df-34f022b8-c51f-4287-87aa-7a13cdeb0b0d\">\n",
              "    <div class=\"colab-df-container\">\n",
              "      <div>\n",
              "<style scoped>\n",
              "    .dataframe tbody tr th:only-of-type {\n",
              "        vertical-align: middle;\n",
              "    }\n",
              "\n",
              "    .dataframe tbody tr th {\n",
              "        vertical-align: top;\n",
              "    }\n",
              "\n",
              "    .dataframe thead th {\n",
              "        text-align: right;\n",
              "    }\n",
              "</style>\n",
              "<table border=\"1\" class=\"dataframe\">\n",
              "  <thead>\n",
              "    <tr style=\"text-align: right;\">\n",
              "      <th></th>\n",
              "      <th>name</th>\n",
              "      <th>platform</th>\n",
              "      <th>release_date</th>\n",
              "      <th>summary</th>\n",
              "      <th>meta_score</th>\n",
              "      <th>user_review</th>\n",
              "    </tr>\n",
              "  </thead>\n",
              "  <tbody>\n",
              "    <tr>\n",
              "      <th>0</th>\n",
              "      <td>The Legend of Zelda: Ocarina of Time</td>\n",
              "      <td>Nintendo 64</td>\n",
              "      <td>November 23, 1998</td>\n",
              "      <td>As a young boy, Link is tricked by Ganondorf, ...</td>\n",
              "      <td>99</td>\n",
              "      <td>9.1</td>\n",
              "    </tr>\n",
              "    <tr>\n",
              "      <th>1</th>\n",
              "      <td>Tony Hawk's Pro Skater 2</td>\n",
              "      <td>PlayStation</td>\n",
              "      <td>September 20, 2000</td>\n",
              "      <td>As most major publishers' development efforts ...</td>\n",
              "      <td>98</td>\n",
              "      <td>7.4</td>\n",
              "    </tr>\n",
              "    <tr>\n",
              "      <th>2</th>\n",
              "      <td>Grand Theft Auto IV</td>\n",
              "      <td>PlayStation 3</td>\n",
              "      <td>April 29, 2008</td>\n",
              "      <td>[Metacritic's 2008 PS3 Game of the Year; Also ...</td>\n",
              "      <td>98</td>\n",
              "      <td>7.7</td>\n",
              "    </tr>\n",
              "    <tr>\n",
              "      <th>3</th>\n",
              "      <td>SoulCalibur</td>\n",
              "      <td>Dreamcast</td>\n",
              "      <td>September 8, 1999</td>\n",
              "      <td>This is a tale of souls and swords, transcendi...</td>\n",
              "      <td>98</td>\n",
              "      <td>8.4</td>\n",
              "    </tr>\n",
              "    <tr>\n",
              "      <th>4</th>\n",
              "      <td>Grand Theft Auto IV</td>\n",
              "      <td>Xbox 360</td>\n",
              "      <td>April 29, 2008</td>\n",
              "      <td>[Metacritic's 2008 Xbox 360 Game of the Year; ...</td>\n",
              "      <td>98</td>\n",
              "      <td>7.9</td>\n",
              "    </tr>\n",
              "  </tbody>\n",
              "</table>\n",
              "</div>\n",
              "      <button class=\"colab-df-convert\" onclick=\"convertToInteractive('df-34f022b8-c51f-4287-87aa-7a13cdeb0b0d')\"\n",
              "              title=\"Convert this dataframe to an interactive table.\"\n",
              "              style=\"display:none;\">\n",
              "        \n",
              "  <svg xmlns=\"http://www.w3.org/2000/svg\" height=\"24px\"viewBox=\"0 0 24 24\"\n",
              "       width=\"24px\">\n",
              "    <path d=\"M0 0h24v24H0V0z\" fill=\"none\"/>\n",
              "    <path d=\"M18.56 5.44l.94 2.06.94-2.06 2.06-.94-2.06-.94-.94-2.06-.94 2.06-2.06.94zm-11 1L8.5 8.5l.94-2.06 2.06-.94-2.06-.94L8.5 2.5l-.94 2.06-2.06.94zm10 10l.94 2.06.94-2.06 2.06-.94-2.06-.94-.94-2.06-.94 2.06-2.06.94z\"/><path d=\"M17.41 7.96l-1.37-1.37c-.4-.4-.92-.59-1.43-.59-.52 0-1.04.2-1.43.59L10.3 9.45l-7.72 7.72c-.78.78-.78 2.05 0 2.83L4 21.41c.39.39.9.59 1.41.59.51 0 1.02-.2 1.41-.59l7.78-7.78 2.81-2.81c.8-.78.8-2.07 0-2.86zM5.41 20L4 18.59l7.72-7.72 1.47 1.35L5.41 20z\"/>\n",
              "  </svg>\n",
              "      </button>\n",
              "      \n",
              "  <style>\n",
              "    .colab-df-container {\n",
              "      display:flex;\n",
              "      flex-wrap:wrap;\n",
              "      gap: 12px;\n",
              "    }\n",
              "\n",
              "    .colab-df-convert {\n",
              "      background-color: #E8F0FE;\n",
              "      border: none;\n",
              "      border-radius: 50%;\n",
              "      cursor: pointer;\n",
              "      display: none;\n",
              "      fill: #1967D2;\n",
              "      height: 32px;\n",
              "      padding: 0 0 0 0;\n",
              "      width: 32px;\n",
              "    }\n",
              "\n",
              "    .colab-df-convert:hover {\n",
              "      background-color: #E2EBFA;\n",
              "      box-shadow: 0px 1px 2px rgba(60, 64, 67, 0.3), 0px 1px 3px 1px rgba(60, 64, 67, 0.15);\n",
              "      fill: #174EA6;\n",
              "    }\n",
              "\n",
              "    [theme=dark] .colab-df-convert {\n",
              "      background-color: #3B4455;\n",
              "      fill: #D2E3FC;\n",
              "    }\n",
              "\n",
              "    [theme=dark] .colab-df-convert:hover {\n",
              "      background-color: #434B5C;\n",
              "      box-shadow: 0px 1px 3px 1px rgba(0, 0, 0, 0.15);\n",
              "      filter: drop-shadow(0px 1px 2px rgba(0, 0, 0, 0.3));\n",
              "      fill: #FFFFFF;\n",
              "    }\n",
              "  </style>\n",
              "\n",
              "      <script>\n",
              "        const buttonEl =\n",
              "          document.querySelector('#df-34f022b8-c51f-4287-87aa-7a13cdeb0b0d button.colab-df-convert');\n",
              "        buttonEl.style.display =\n",
              "          google.colab.kernel.accessAllowed ? 'block' : 'none';\n",
              "\n",
              "        async function convertToInteractive(key) {\n",
              "          const element = document.querySelector('#df-34f022b8-c51f-4287-87aa-7a13cdeb0b0d');\n",
              "          const dataTable =\n",
              "            await google.colab.kernel.invokeFunction('convertToInteractive',\n",
              "                                                     [key], {});\n",
              "          if (!dataTable) return;\n",
              "\n",
              "          const docLinkHtml = 'Like what you see? Visit the ' +\n",
              "            '<a target=\"_blank\" href=https://colab.research.google.com/notebooks/data_table.ipynb>data table notebook</a>'\n",
              "            + ' to learn more about interactive tables.';\n",
              "          element.innerHTML = '';\n",
              "          dataTable['output_type'] = 'display_data';\n",
              "          await google.colab.output.renderOutput(dataTable, element);\n",
              "          const docLink = document.createElement('div');\n",
              "          docLink.innerHTML = docLinkHtml;\n",
              "          element.appendChild(docLink);\n",
              "        }\n",
              "      </script>\n",
              "    </div>\n",
              "  </div>\n",
              "  "
            ]
          },
          "metadata": {},
          "execution_count": 76
        }
      ],
      "source": [
        "data = pd.read_csv('all_games.csv')\n",
        "data.head()"
      ]
    },
    {
      "cell_type": "code",
      "execution_count": 77,
      "id": "d9af511c",
      "metadata": {
        "colab": {
          "base_uri": "https://localhost:8080/"
        },
        "id": "d9af511c",
        "outputId": "87b15d42-70bf-48e9-b666-7e71242a6286"
      },
      "outputs": [
        {
          "output_type": "execute_result",
          "data": {
            "text/plain": [
              "(18800, 6)"
            ]
          },
          "metadata": {},
          "execution_count": 77
        }
      ],
      "source": [
        "data.shape"
      ]
    },
    {
      "cell_type": "code",
      "source": [
        "df_md_with_summary = data[data['summary'].notnull()]\n",
        "df_md_with_summary = df_md_with_summary[~df_md_with_summary['summary'].str.isspace()]"
      ],
      "metadata": {
        "id": "zWikUxSr-5pH"
      },
      "id": "zWikUxSr-5pH",
      "execution_count": 78,
      "outputs": []
    },
    {
      "cell_type": "code",
      "source": [
        "name = df_md_with_summary['name'].values\n",
        "name[0:6]\n"
      ],
      "metadata": {
        "colab": {
          "base_uri": "https://localhost:8080/"
        },
        "id": "FZBWXnxIBVCN",
        "outputId": "fae8ca55-e3fd-44c5-d36f-87499d3c6860"
      },
      "id": "FZBWXnxIBVCN",
      "execution_count": 79,
      "outputs": [
        {
          "output_type": "execute_result",
          "data": {
            "text/plain": [
              "array(['The Legend of Zelda: Ocarina of Time', \"Tony Hawk's Pro Skater 2\",\n",
              "       'Grand Theft Auto IV', 'SoulCalibur', 'Grand Theft Auto IV',\n",
              "       'Super Mario Galaxy'], dtype=object)"
            ]
          },
          "metadata": {},
          "execution_count": 79
        }
      ]
    },
    {
      "cell_type": "code",
      "source": [
        "platform = df_md_with_summary['platform'].values\n",
        "platform[0:6]"
      ],
      "metadata": {
        "colab": {
          "base_uri": "https://localhost:8080/"
        },
        "id": "aBH23SabBn31",
        "outputId": "20450149-e1e6-4716-ec67-e59c20f13ee4"
      },
      "id": "aBH23SabBn31",
      "execution_count": 80,
      "outputs": [
        {
          "output_type": "execute_result",
          "data": {
            "text/plain": [
              "array([' Nintendo 64', ' PlayStation', ' PlayStation 3', ' Dreamcast',\n",
              "       ' Xbox 360', ' Wii'], dtype=object)"
            ]
          },
          "metadata": {},
          "execution_count": 80
        }
      ]
    },
    {
      "cell_type": "code",
      "source": [
        "metaScore = df_md_with_summary['meta_score'].values\n",
        "metaScore[0:6]"
      ],
      "metadata": {
        "colab": {
          "base_uri": "https://localhost:8080/"
        },
        "id": "pvGdQoK6BwMF",
        "outputId": "17d08ce2-729d-4893-c413-aa81e20061d9"
      },
      "id": "pvGdQoK6BwMF",
      "execution_count": 81,
      "outputs": [
        {
          "output_type": "execute_result",
          "data": {
            "text/plain": [
              "array([99, 98, 98, 98, 98, 97])"
            ]
          },
          "metadata": {},
          "execution_count": 81
        }
      ]
    },
    {
      "cell_type": "code",
      "source": [
        "summary = df_md_with_summary['summary'].values\n",
        "summary[0:6]"
      ],
      "metadata": {
        "colab": {
          "base_uri": "https://localhost:8080/"
        },
        "id": "vbXMYOfTCU61",
        "outputId": "05426f0e-40ce-4e1c-a026-4c472790f6e1"
      },
      "id": "vbXMYOfTCU61",
      "execution_count": 82,
      "outputs": [
        {
          "output_type": "execute_result",
          "data": {
            "text/plain": [
              "array(['As a young boy, Link is tricked by Ganondorf, the King of the Gerudo Thieves. The evil human uses Link to gain access to the Sacred Realm, where he places his tainted hands on Triforce and transforms the beautiful Hyrulean landscape into a barren wasteland. Link is determined to fix the problems he helped to create, so with the help of Rauru he travels through time gathering the powers of the Seven Sages.',\n",
              "       \"As most major publishers' development efforts shift to any number of next-generation platforms, Tony Hawk 2 will likely stand as one of the last truly fantastic games to be released on the PlayStation.\",\n",
              "       '[Metacritic\\'s 2008 PS3 Game of the Year; Also known as \"GTA IV\"] What does the American Dream mean today? For Niko Belic, fresh off the boat from Europe. It\\'s the hope he can escape his past. For his cousin, Roman, it is the vision that together they can find fortune in Liberty City, gateway to the land of opportunity. As they slip into debt and are dragged into a criminal underworld by a series of shysters, thieves and sociopaths, they discover that the reality is very different from the dream in a city that worships money and status, and is heaven for those who have them an a living nightmare for those who don\\'t. [Rockstar Games]',\n",
              "       \"This is a tale of souls and swords, transcending the world and all its history, told for all eternity... The greatest weapons-based fighter returns, this time on Sega Dreamcast. Soul Calibur unleashes incredible graphics, fantastic fighters, and combos so amazing they'll make your head spin!\",\n",
              "       '[Metacritic\\'s 2008 Xbox 360 Game of the Year; Also known as \"GTA IV\"] What does the American Dream mean today? For Niko Belic, fresh off the boat from Europe. It\\'s the hope he can escape his past. For his cousin, Roman, it is the vision that together they can find fortune in Liberty City, gateway to the land of opportunity. As they slip into debt and are dragged into a criminal underworld by a series of shysters, thieves and sociopaths, they discover that the reality is very different from the dream in a city that worships money and status, and is heaven for those who have them an a living nightmare for those who don\\'t. [Rockstar Games]',\n",
              "       \"[Metacritic's 2007 Wii Game of the Year] The ultimate Nintendo hero is taking the ultimate step ... out into space. Join Mario as he ushers in a new era of video games, defying gravity across all the planets in the galaxy. When some creature escapes into space with Princess Peach, Mario gives chase, exploring bizarre planets all across the galaxy. Mario, Peach and enemies new and old are here. Players run, jump and battle enemies as they explore all the planets in the galaxy. Since this game makes full use of all the features of the Wii Remote, players have to do all kinds of things to succeed: pressing buttons, swinging the Wii Remote and the Nunchuk, and even pointing at and dragging things with the pointer. Since he's in space, Mario can perform mind-bending jumps unlike anything he's done before. He'll also have a wealth of new moves that are all based around tilting, pointing and shaking the Wii Remote. Shake, tilt and point! Mario takes advantage of all the unique aspects of the Wii Remote and Nunchuk controller, unleashing new moves as players shake the controller and even point at and drag items with the pointer. [Nintendo]\"],\n",
              "      dtype=object)"
            ]
          },
          "metadata": {},
          "execution_count": 82
        }
      ]
    },
    {
      "cell_type": "markdown",
      "source": [
        "Векторизуем описания с помощью Tf-Idf Vectorizer"
      ],
      "metadata": {
        "id": "EAJxZWAnCzPO"
      },
      "id": "EAJxZWAnCzPO"
    },
    {
      "cell_type": "code",
      "source": [
        "tfidfv = TfidfVectorizer()\n",
        "summary_matrix = tfidfv.fit_transform(summary)\n",
        "summary_matrix\n"
      ],
      "metadata": {
        "colab": {
          "base_uri": "https://localhost:8080/"
        },
        "id": "Mw9Ps799CHu9",
        "outputId": "96da289d-6537-4436-df4d-ebc0aa752ceb"
      },
      "id": "Mw9Ps799CHu9",
      "execution_count": 83,
      "outputs": [
        {
          "output_type": "execute_result",
          "data": {
            "text/plain": [
              "<18686x38922 sparse matrix of type '<class 'numpy.float64'>'\n",
              "\twith 1265978 stored elements in Compressed Sparse Row format>"
            ]
          },
          "metadata": {},
          "execution_count": 83
        }
      ]
    },
    {
      "cell_type": "markdown",
      "source": [
        "И с помощью CountVectorizer:"
      ],
      "metadata": {
        "id": "4onNmkQkC4T1"
      },
      "id": "4onNmkQkC4T1"
    },
    {
      "cell_type": "code",
      "source": [
        "countv = CountVectorizer()\n",
        "summary_matrix_co = countv.fit_transform(summary)\n",
        "summary_matrix_co"
      ],
      "metadata": {
        "colab": {
          "base_uri": "https://localhost:8080/"
        },
        "id": "fkUomBDmC5qF",
        "outputId": "69d47b65-fea2-4230-d3dd-c0a441b60915"
      },
      "id": "fkUomBDmC5qF",
      "execution_count": 84,
      "outputs": [
        {
          "output_type": "execute_result",
          "data": {
            "text/plain": [
              "<18686x38922 sparse matrix of type '<class 'numpy.int64'>'\n",
              "\twith 1265978 stored elements in Compressed Sparse Row format>"
            ]
          },
          "metadata": {},
          "execution_count": 84
        }
      ]
    },
    {
      "cell_type": "code",
      "execution_count": 85,
      "id": "985978de",
      "metadata": {
        "id": "985978de"
      },
      "outputs": [],
      "source": [
        "class SimpleKNNRecommender:\n",
        "    \n",
        "    def __init__(self, X_matrix, X_name, X_platform, X_summary):\n",
        "        \"\"\"\n",
        "        Входные параметры:\n",
        "        X_matrix - обучающая выборка (матрица объект-признак)\n",
        "        X_ids - массив идентификаторов объектов\n",
        "        X_title - массив названий объектов\n",
        "        X_overview - массив описаний объектов\n",
        "        \"\"\"\n",
        "        #Сохраняем параметры в переменных объекта\n",
        "        self._X_matrix = X_matrix\n",
        "        self.df = pd.DataFrame(\n",
        "            {'name': pd.Series(X_name, dtype='str'),\n",
        "            'platform': pd.Series(X_platform, dtype='str'),\n",
        "            'summary': pd.Series(X_summary, dtype='str'),\n",
        "            'dist': pd.Series([], dtype='float')})\n",
        "            \n",
        "            \n",
        "    def recommend_for_single_object(self, K: int, \\\n",
        "                X_matrix_object, cos_flag = True, manh_flag = False):\n",
        "        \"\"\"\n",
        "        Метод формирования рекомендаций для одного объекта.\n",
        "        Входные параметры:\n",
        "        K - количество рекомендуемых соседей \n",
        "        X_matrix_object - строка матрицы объект-признак, соответствующая объекту\n",
        "        cos_flag - флаг вычисления косинусного расстояния\n",
        "        manh_flag - флаг вычисления манхэттэнского расстояния\n",
        "        Возвращаемое значение: K найденных соседей\n",
        "        \"\"\"\n",
        "        \n",
        "        scale = 1000000\n",
        "        # Вычисляем косинусную близость\n",
        "        if cos_flag:\n",
        "            dist = cosine_similarity(self._X_matrix, X_matrix_object)\n",
        "            self.df['dist'] = dist * scale\n",
        "            res = self.df.sort_values(by='dist', ascending=False)\n",
        "            # Не учитываем рекомендации с единичным расстоянием,\n",
        "            # так как это искомый объект\n",
        "            res = res[res['dist'] < scale]\n",
        "        \n",
        "        else:\n",
        "            if manh_flag:\n",
        "                dist = manhattan_distances(self._X_matrix, X_matrix_object)\n",
        "            else:\n",
        "                dist = euclidean_distances(self._X_matrix, X_matrix_object)\n",
        "            self.df['dist'] = dist * scale\n",
        "            res = self.df.sort_values(by='dist', ascending=True)\n",
        "            # Не учитываем рекомендации с единичным расстоянием,\n",
        "            # так как это искомый объект\n",
        "            res = res[res['dist'] > 0.0]            \n",
        "        \n",
        "        # Оставляем К первых рекомендаций\n",
        "        res = res.head(K)\n",
        "        return res"
      ]
    },
    {
      "cell_type": "code",
      "execution_count": 100,
      "id": "8b27e410",
      "metadata": {
        "colab": {
          "base_uri": "https://localhost:8080/",
          "height": 36
        },
        "id": "8b27e410",
        "outputId": "437a5a2f-f6fa-4248-a830-5222236d7659"
      },
      "outputs": [
        {
          "output_type": "execute_result",
          "data": {
            "text/plain": [
              "'Super Mario Galaxy'"
            ],
            "application/vnd.google.colaboratory.intrinsic+json": {
              "type": "string"
            }
          },
          "metadata": {},
          "execution_count": 100
        }
      ],
      "source": [
        "test_game_name = 5\n",
        "name[test_game_name]"
      ]
    },
    {
      "cell_type": "markdown",
      "source": [
        "Зададим его матрицу:"
      ],
      "metadata": {
        "id": "aA77cjerEzIH"
      },
      "id": "aA77cjerEzIH"
    },
    {
      "cell_type": "code",
      "source": [
        "test_game_matrix = summary_matrix[test_game_name]\n",
        "test_game_matrix"
      ],
      "metadata": {
        "colab": {
          "base_uri": "https://localhost:8080/"
        },
        "id": "zBHy06yOEyyt",
        "outputId": "81370f4c-0814-4540-8746-7bba3e85dade"
      },
      "id": "zBHy06yOEyyt",
      "execution_count": 101,
      "outputs": [
        {
          "output_type": "execute_result",
          "data": {
            "text/plain": [
              "<1x38922 sparse matrix of type '<class 'numpy.float64'>'\n",
              "\twith 105 stored elements in Compressed Sparse Row format>"
            ]
          },
          "metadata": {},
          "execution_count": 101
        }
      ]
    },
    {
      "cell_type": "code",
      "execution_count": 102,
      "id": "45aee4cd",
      "metadata": {
        "id": "45aee4cd"
      },
      "outputs": [],
      "source": [
        "skr1 = SimpleKNNRecommender(summary_matrix, name, platform, summary)"
      ]
    },
    {
      "cell_type": "code",
      "source": [
        "test = df_md_with_summary.iloc[test_game_name]\n",
        "test"
      ],
      "metadata": {
        "colab": {
          "base_uri": "https://localhost:8080/"
        },
        "id": "xpVDRFPsFWAu",
        "outputId": "02ad4047-6d88-4793-f19e-6c10d2f4fc67"
      },
      "id": "xpVDRFPsFWAu",
      "execution_count": 103,
      "outputs": [
        {
          "output_type": "execute_result",
          "data": {
            "text/plain": [
              "name                                           Super Mario Galaxy\n",
              "platform                                                      Wii\n",
              "release_date                                    November 12, 2007\n",
              "summary         [Metacritic's 2007 Wii Game of the Year] The u...\n",
              "meta_score                                                     97\n",
              "user_review                                                   9.1\n",
              "Name: 5, dtype: object"
            ]
          },
          "metadata": {},
          "execution_count": 103
        }
      ]
    },
    {
      "cell_type": "code",
      "execution_count": 104,
      "id": "0a14aee9",
      "metadata": {
        "colab": {
          "base_uri": "https://localhost:8080/",
          "height": 363
        },
        "id": "0a14aee9",
        "outputId": "6c776ded-aa32-4241-94ea-1401454f296f"
      },
      "outputs": [
        {
          "output_type": "execute_result",
          "data": {
            "text/plain": [
              "                                           name           platform  \\\n",
              "3188                             Mario Kart Wii                Wii   \n",
              "1075                  New Super Mario Bros. Wii                Wii   \n",
              "3064                   Super Mario 3D All-Stars             Switch   \n",
              "16084                                  Wii Play                Wii   \n",
              "135                        Super Mario 3D World              Wii U   \n",
              "15206                          Wii Play: Motion                Wii   \n",
              "13247                                   NHL 2K9                Wii   \n",
              "11570                      Mario Super Sluggers                Wii   \n",
              "18171                            Furu Furu Park                 PC   \n",
              "223    Super Mario World: Super Mario Advance 2   Game Boy Advance   \n",
              "\n",
              "                                                 summary           dist  \n",
              "3188   Mario Kart Wii comes with the intuitive Wii Wh...  395605.935463  \n",
              "1075   New Super Mario Bros. Wii offers a combination...  390494.857117  \n",
              "3064   Play three of Mario’s greatest 3D platform adv...  368606.459438  \n",
              "16084  In Wii Play, the star of the game is you. Crea...  352888.817182  \n",
              "135    Work together with your friends or compete for...  351778.776477  \n",
              "15206  With the June 13 launch of Wii Play: Motion, W...  331220.622109  \n",
              "13247  Wii Remote Shooting – Execute wrist shots with...  321918.343124  \n",
              "11570  In the same spirit as other sports-themed Mari...  321211.971920  \n",
              "18171  Furu Furu Park is a collection of 30 arcade-st...  306305.767881  \n",
              "223    Mario hasn't even had a chance to savor his vi...  303054.238122  "
            ],
            "text/html": [
              "\n",
              "  <div id=\"df-9b5e9c8b-0676-45bc-b75c-482f91805f6c\">\n",
              "    <div class=\"colab-df-container\">\n",
              "      <div>\n",
              "<style scoped>\n",
              "    .dataframe tbody tr th:only-of-type {\n",
              "        vertical-align: middle;\n",
              "    }\n",
              "\n",
              "    .dataframe tbody tr th {\n",
              "        vertical-align: top;\n",
              "    }\n",
              "\n",
              "    .dataframe thead th {\n",
              "        text-align: right;\n",
              "    }\n",
              "</style>\n",
              "<table border=\"1\" class=\"dataframe\">\n",
              "  <thead>\n",
              "    <tr style=\"text-align: right;\">\n",
              "      <th></th>\n",
              "      <th>name</th>\n",
              "      <th>platform</th>\n",
              "      <th>summary</th>\n",
              "      <th>dist</th>\n",
              "    </tr>\n",
              "  </thead>\n",
              "  <tbody>\n",
              "    <tr>\n",
              "      <th>3188</th>\n",
              "      <td>Mario Kart Wii</td>\n",
              "      <td>Wii</td>\n",
              "      <td>Mario Kart Wii comes with the intuitive Wii Wh...</td>\n",
              "      <td>395605.935463</td>\n",
              "    </tr>\n",
              "    <tr>\n",
              "      <th>1075</th>\n",
              "      <td>New Super Mario Bros. Wii</td>\n",
              "      <td>Wii</td>\n",
              "      <td>New Super Mario Bros. Wii offers a combination...</td>\n",
              "      <td>390494.857117</td>\n",
              "    </tr>\n",
              "    <tr>\n",
              "      <th>3064</th>\n",
              "      <td>Super Mario 3D All-Stars</td>\n",
              "      <td>Switch</td>\n",
              "      <td>Play three of Mario’s greatest 3D platform adv...</td>\n",
              "      <td>368606.459438</td>\n",
              "    </tr>\n",
              "    <tr>\n",
              "      <th>16084</th>\n",
              "      <td>Wii Play</td>\n",
              "      <td>Wii</td>\n",
              "      <td>In Wii Play, the star of the game is you. Crea...</td>\n",
              "      <td>352888.817182</td>\n",
              "    </tr>\n",
              "    <tr>\n",
              "      <th>135</th>\n",
              "      <td>Super Mario 3D World</td>\n",
              "      <td>Wii U</td>\n",
              "      <td>Work together with your friends or compete for...</td>\n",
              "      <td>351778.776477</td>\n",
              "    </tr>\n",
              "    <tr>\n",
              "      <th>15206</th>\n",
              "      <td>Wii Play: Motion</td>\n",
              "      <td>Wii</td>\n",
              "      <td>With the June 13 launch of Wii Play: Motion, W...</td>\n",
              "      <td>331220.622109</td>\n",
              "    </tr>\n",
              "    <tr>\n",
              "      <th>13247</th>\n",
              "      <td>NHL 2K9</td>\n",
              "      <td>Wii</td>\n",
              "      <td>Wii Remote Shooting – Execute wrist shots with...</td>\n",
              "      <td>321918.343124</td>\n",
              "    </tr>\n",
              "    <tr>\n",
              "      <th>11570</th>\n",
              "      <td>Mario Super Sluggers</td>\n",
              "      <td>Wii</td>\n",
              "      <td>In the same spirit as other sports-themed Mari...</td>\n",
              "      <td>321211.971920</td>\n",
              "    </tr>\n",
              "    <tr>\n",
              "      <th>18171</th>\n",
              "      <td>Furu Furu Park</td>\n",
              "      <td>PC</td>\n",
              "      <td>Furu Furu Park is a collection of 30 arcade-st...</td>\n",
              "      <td>306305.767881</td>\n",
              "    </tr>\n",
              "    <tr>\n",
              "      <th>223</th>\n",
              "      <td>Super Mario World: Super Mario Advance 2</td>\n",
              "      <td>Game Boy Advance</td>\n",
              "      <td>Mario hasn't even had a chance to savor his vi...</td>\n",
              "      <td>303054.238122</td>\n",
              "    </tr>\n",
              "  </tbody>\n",
              "</table>\n",
              "</div>\n",
              "      <button class=\"colab-df-convert\" onclick=\"convertToInteractive('df-9b5e9c8b-0676-45bc-b75c-482f91805f6c')\"\n",
              "              title=\"Convert this dataframe to an interactive table.\"\n",
              "              style=\"display:none;\">\n",
              "        \n",
              "  <svg xmlns=\"http://www.w3.org/2000/svg\" height=\"24px\"viewBox=\"0 0 24 24\"\n",
              "       width=\"24px\">\n",
              "    <path d=\"M0 0h24v24H0V0z\" fill=\"none\"/>\n",
              "    <path d=\"M18.56 5.44l.94 2.06.94-2.06 2.06-.94-2.06-.94-.94-2.06-.94 2.06-2.06.94zm-11 1L8.5 8.5l.94-2.06 2.06-.94-2.06-.94L8.5 2.5l-.94 2.06-2.06.94zm10 10l.94 2.06.94-2.06 2.06-.94-2.06-.94-.94-2.06-.94 2.06-2.06.94z\"/><path d=\"M17.41 7.96l-1.37-1.37c-.4-.4-.92-.59-1.43-.59-.52 0-1.04.2-1.43.59L10.3 9.45l-7.72 7.72c-.78.78-.78 2.05 0 2.83L4 21.41c.39.39.9.59 1.41.59.51 0 1.02-.2 1.41-.59l7.78-7.78 2.81-2.81c.8-.78.8-2.07 0-2.86zM5.41 20L4 18.59l7.72-7.72 1.47 1.35L5.41 20z\"/>\n",
              "  </svg>\n",
              "      </button>\n",
              "      \n",
              "  <style>\n",
              "    .colab-df-container {\n",
              "      display:flex;\n",
              "      flex-wrap:wrap;\n",
              "      gap: 12px;\n",
              "    }\n",
              "\n",
              "    .colab-df-convert {\n",
              "      background-color: #E8F0FE;\n",
              "      border: none;\n",
              "      border-radius: 50%;\n",
              "      cursor: pointer;\n",
              "      display: none;\n",
              "      fill: #1967D2;\n",
              "      height: 32px;\n",
              "      padding: 0 0 0 0;\n",
              "      width: 32px;\n",
              "    }\n",
              "\n",
              "    .colab-df-convert:hover {\n",
              "      background-color: #E2EBFA;\n",
              "      box-shadow: 0px 1px 2px rgba(60, 64, 67, 0.3), 0px 1px 3px 1px rgba(60, 64, 67, 0.15);\n",
              "      fill: #174EA6;\n",
              "    }\n",
              "\n",
              "    [theme=dark] .colab-df-convert {\n",
              "      background-color: #3B4455;\n",
              "      fill: #D2E3FC;\n",
              "    }\n",
              "\n",
              "    [theme=dark] .colab-df-convert:hover {\n",
              "      background-color: #434B5C;\n",
              "      box-shadow: 0px 1px 3px 1px rgba(0, 0, 0, 0.15);\n",
              "      filter: drop-shadow(0px 1px 2px rgba(0, 0, 0, 0.3));\n",
              "      fill: #FFFFFF;\n",
              "    }\n",
              "  </style>\n",
              "\n",
              "      <script>\n",
              "        const buttonEl =\n",
              "          document.querySelector('#df-9b5e9c8b-0676-45bc-b75c-482f91805f6c button.colab-df-convert');\n",
              "        buttonEl.style.display =\n",
              "          google.colab.kernel.accessAllowed ? 'block' : 'none';\n",
              "\n",
              "        async function convertToInteractive(key) {\n",
              "          const element = document.querySelector('#df-9b5e9c8b-0676-45bc-b75c-482f91805f6c');\n",
              "          const dataTable =\n",
              "            await google.colab.kernel.invokeFunction('convertToInteractive',\n",
              "                                                     [key], {});\n",
              "          if (!dataTable) return;\n",
              "\n",
              "          const docLinkHtml = 'Like what you see? Visit the ' +\n",
              "            '<a target=\"_blank\" href=https://colab.research.google.com/notebooks/data_table.ipynb>data table notebook</a>'\n",
              "            + ' to learn more about interactive tables.';\n",
              "          element.innerHTML = '';\n",
              "          dataTable['output_type'] = 'display_data';\n",
              "          await google.colab.output.renderOutput(dataTable, element);\n",
              "          const docLink = document.createElement('div');\n",
              "          docLink.innerHTML = docLinkHtml;\n",
              "          element.appendChild(docLink);\n",
              "        }\n",
              "      </script>\n",
              "    </div>\n",
              "  </div>\n",
              "  "
            ]
          },
          "metadata": {},
          "execution_count": 104
        }
      ],
      "source": [
        "rec1 = skr1.recommend_for_single_object(10, test_game_matrix)\n",
        "rec1"
      ]
    },
    {
      "cell_type": "code",
      "source": [
        "test_game_matrix_co = summary_matrix_co[test_game_name]\n",
        "test_game_matrix_co"
      ],
      "metadata": {
        "colab": {
          "base_uri": "https://localhost:8080/"
        },
        "id": "BiAWvLuPJpZV",
        "outputId": "1d21b947-10db-4737-cc18-7f22921f6148"
      },
      "id": "BiAWvLuPJpZV",
      "execution_count": 105,
      "outputs": [
        {
          "output_type": "execute_result",
          "data": {
            "text/plain": [
              "<1x38922 sparse matrix of type '<class 'numpy.int64'>'\n",
              "\twith 105 stored elements in Compressed Sparse Row format>"
            ]
          },
          "metadata": {},
          "execution_count": 105
        }
      ]
    },
    {
      "cell_type": "code",
      "source": [
        "skr2 = SimpleKNNRecommender(summary_matrix_co, name, platform, summary)\n"
      ],
      "metadata": {
        "id": "CTcaiXH-KBQv"
      },
      "id": "CTcaiXH-KBQv",
      "execution_count": 106,
      "outputs": []
    },
    {
      "cell_type": "markdown",
      "source": [
        "Делаем рекомендации по описаниям векторизованным CountVectorizer и на основе Евклидова\n",
        "расстояния:"
      ],
      "metadata": {
        "id": "BUlpLCQIKJ24"
      },
      "id": "BUlpLCQIKJ24"
    },
    {
      "cell_type": "code",
      "source": [
        "rec2 = skr2.recommend_for_single_object(10, test_game_matrix_co, cos_flag = False)\n",
        "rec2\n"
      ],
      "metadata": {
        "colab": {
          "base_uri": "https://localhost:8080/",
          "height": 363
        },
        "id": "JP42jz9cKNkm",
        "outputId": "0d5a92f4-ba17-42a4-dc97-a1bb28a3ab6d"
      },
      "id": "JP42jz9cKNkm",
      "execution_count": 107,
      "outputs": [
        {
          "output_type": "execute_result",
          "data": {
            "text/plain": [
              "                                        name        platform  \\\n",
              "18658                       Jenga World Tour             Wii   \n",
              "18587                       Jenga World Tour              DS   \n",
              "17066    Transformers: Revenge of the Fallen          Switch   \n",
              "3207                  Europa 1400: The Guild              PC   \n",
              "12600                                 Ride 2              PC   \n",
              "13973     The Council - Episode 5: Checkmate   PlayStation 4   \n",
              "16355     The Council - Episode 5: Checkmate             PSP   \n",
              "479                                    Okami             Wii   \n",
              "3329   The Lord of the Rings: The Two Towers   PlayStation 2   \n",
              "12439                        Cursed Mountain             Wii   \n",
              "\n",
              "                                                 summary          dist  \n",
              "18658  Jenga is based on the world famous wooden bloc...  2.017424e+07  \n",
              "18587  Jenga is based on the world famous wooden bloc...  2.017424e+07  \n",
              "17066  The fate of the earth and the survival of the ...  2.032240e+07  \n",
              "3207   It's the year 1400. Europe sees the dawn of th...  2.085665e+07  \n",
              "12600  Welcome to the temple of motorcycles, the only...  2.088061e+07  \n",
              "13973  Checkmate is the fifth and final episode of Th...  2.088061e+07  \n",
              "16355  Checkmate is the fifth and final episode of Th...  2.088061e+07  \n",
              "479    Okami tells the story of a mythical sun god wh...  2.100000e+07  \n",
              "3329   Join the fellowship and experience all of the ...  2.107131e+07  \n",
              "12439  Set in the late 1980s, gamers take on the role...  2.107131e+07  "
            ],
            "text/html": [
              "\n",
              "  <div id=\"df-76b1e6af-5626-40f5-a5f1-e6d2c57d6496\">\n",
              "    <div class=\"colab-df-container\">\n",
              "      <div>\n",
              "<style scoped>\n",
              "    .dataframe tbody tr th:only-of-type {\n",
              "        vertical-align: middle;\n",
              "    }\n",
              "\n",
              "    .dataframe tbody tr th {\n",
              "        vertical-align: top;\n",
              "    }\n",
              "\n",
              "    .dataframe thead th {\n",
              "        text-align: right;\n",
              "    }\n",
              "</style>\n",
              "<table border=\"1\" class=\"dataframe\">\n",
              "  <thead>\n",
              "    <tr style=\"text-align: right;\">\n",
              "      <th></th>\n",
              "      <th>name</th>\n",
              "      <th>platform</th>\n",
              "      <th>summary</th>\n",
              "      <th>dist</th>\n",
              "    </tr>\n",
              "  </thead>\n",
              "  <tbody>\n",
              "    <tr>\n",
              "      <th>18658</th>\n",
              "      <td>Jenga World Tour</td>\n",
              "      <td>Wii</td>\n",
              "      <td>Jenga is based on the world famous wooden bloc...</td>\n",
              "      <td>2.017424e+07</td>\n",
              "    </tr>\n",
              "    <tr>\n",
              "      <th>18587</th>\n",
              "      <td>Jenga World Tour</td>\n",
              "      <td>DS</td>\n",
              "      <td>Jenga is based on the world famous wooden bloc...</td>\n",
              "      <td>2.017424e+07</td>\n",
              "    </tr>\n",
              "    <tr>\n",
              "      <th>17066</th>\n",
              "      <td>Transformers: Revenge of the Fallen</td>\n",
              "      <td>Switch</td>\n",
              "      <td>The fate of the earth and the survival of the ...</td>\n",
              "      <td>2.032240e+07</td>\n",
              "    </tr>\n",
              "    <tr>\n",
              "      <th>3207</th>\n",
              "      <td>Europa 1400: The Guild</td>\n",
              "      <td>PC</td>\n",
              "      <td>It's the year 1400. Europe sees the dawn of th...</td>\n",
              "      <td>2.085665e+07</td>\n",
              "    </tr>\n",
              "    <tr>\n",
              "      <th>12600</th>\n",
              "      <td>Ride 2</td>\n",
              "      <td>PC</td>\n",
              "      <td>Welcome to the temple of motorcycles, the only...</td>\n",
              "      <td>2.088061e+07</td>\n",
              "    </tr>\n",
              "    <tr>\n",
              "      <th>13973</th>\n",
              "      <td>The Council - Episode 5: Checkmate</td>\n",
              "      <td>PlayStation 4</td>\n",
              "      <td>Checkmate is the fifth and final episode of Th...</td>\n",
              "      <td>2.088061e+07</td>\n",
              "    </tr>\n",
              "    <tr>\n",
              "      <th>16355</th>\n",
              "      <td>The Council - Episode 5: Checkmate</td>\n",
              "      <td>PSP</td>\n",
              "      <td>Checkmate is the fifth and final episode of Th...</td>\n",
              "      <td>2.088061e+07</td>\n",
              "    </tr>\n",
              "    <tr>\n",
              "      <th>479</th>\n",
              "      <td>Okami</td>\n",
              "      <td>Wii</td>\n",
              "      <td>Okami tells the story of a mythical sun god wh...</td>\n",
              "      <td>2.100000e+07</td>\n",
              "    </tr>\n",
              "    <tr>\n",
              "      <th>3329</th>\n",
              "      <td>The Lord of the Rings: The Two Towers</td>\n",
              "      <td>PlayStation 2</td>\n",
              "      <td>Join the fellowship and experience all of the ...</td>\n",
              "      <td>2.107131e+07</td>\n",
              "    </tr>\n",
              "    <tr>\n",
              "      <th>12439</th>\n",
              "      <td>Cursed Mountain</td>\n",
              "      <td>Wii</td>\n",
              "      <td>Set in the late 1980s, gamers take on the role...</td>\n",
              "      <td>2.107131e+07</td>\n",
              "    </tr>\n",
              "  </tbody>\n",
              "</table>\n",
              "</div>\n",
              "      <button class=\"colab-df-convert\" onclick=\"convertToInteractive('df-76b1e6af-5626-40f5-a5f1-e6d2c57d6496')\"\n",
              "              title=\"Convert this dataframe to an interactive table.\"\n",
              "              style=\"display:none;\">\n",
              "        \n",
              "  <svg xmlns=\"http://www.w3.org/2000/svg\" height=\"24px\"viewBox=\"0 0 24 24\"\n",
              "       width=\"24px\">\n",
              "    <path d=\"M0 0h24v24H0V0z\" fill=\"none\"/>\n",
              "    <path d=\"M18.56 5.44l.94 2.06.94-2.06 2.06-.94-2.06-.94-.94-2.06-.94 2.06-2.06.94zm-11 1L8.5 8.5l.94-2.06 2.06-.94-2.06-.94L8.5 2.5l-.94 2.06-2.06.94zm10 10l.94 2.06.94-2.06 2.06-.94-2.06-.94-.94-2.06-.94 2.06-2.06.94z\"/><path d=\"M17.41 7.96l-1.37-1.37c-.4-.4-.92-.59-1.43-.59-.52 0-1.04.2-1.43.59L10.3 9.45l-7.72 7.72c-.78.78-.78 2.05 0 2.83L4 21.41c.39.39.9.59 1.41.59.51 0 1.02-.2 1.41-.59l7.78-7.78 2.81-2.81c.8-.78.8-2.07 0-2.86zM5.41 20L4 18.59l7.72-7.72 1.47 1.35L5.41 20z\"/>\n",
              "  </svg>\n",
              "      </button>\n",
              "      \n",
              "  <style>\n",
              "    .colab-df-container {\n",
              "      display:flex;\n",
              "      flex-wrap:wrap;\n",
              "      gap: 12px;\n",
              "    }\n",
              "\n",
              "    .colab-df-convert {\n",
              "      background-color: #E8F0FE;\n",
              "      border: none;\n",
              "      border-radius: 50%;\n",
              "      cursor: pointer;\n",
              "      display: none;\n",
              "      fill: #1967D2;\n",
              "      height: 32px;\n",
              "      padding: 0 0 0 0;\n",
              "      width: 32px;\n",
              "    }\n",
              "\n",
              "    .colab-df-convert:hover {\n",
              "      background-color: #E2EBFA;\n",
              "      box-shadow: 0px 1px 2px rgba(60, 64, 67, 0.3), 0px 1px 3px 1px rgba(60, 64, 67, 0.15);\n",
              "      fill: #174EA6;\n",
              "    }\n",
              "\n",
              "    [theme=dark] .colab-df-convert {\n",
              "      background-color: #3B4455;\n",
              "      fill: #D2E3FC;\n",
              "    }\n",
              "\n",
              "    [theme=dark] .colab-df-convert:hover {\n",
              "      background-color: #434B5C;\n",
              "      box-shadow: 0px 1px 3px 1px rgba(0, 0, 0, 0.15);\n",
              "      filter: drop-shadow(0px 1px 2px rgba(0, 0, 0, 0.3));\n",
              "      fill: #FFFFFF;\n",
              "    }\n",
              "  </style>\n",
              "\n",
              "      <script>\n",
              "        const buttonEl =\n",
              "          document.querySelector('#df-76b1e6af-5626-40f5-a5f1-e6d2c57d6496 button.colab-df-convert');\n",
              "        buttonEl.style.display =\n",
              "          google.colab.kernel.accessAllowed ? 'block' : 'none';\n",
              "\n",
              "        async function convertToInteractive(key) {\n",
              "          const element = document.querySelector('#df-76b1e6af-5626-40f5-a5f1-e6d2c57d6496');\n",
              "          const dataTable =\n",
              "            await google.colab.kernel.invokeFunction('convertToInteractive',\n",
              "                                                     [key], {});\n",
              "          if (!dataTable) return;\n",
              "\n",
              "          const docLinkHtml = 'Like what you see? Visit the ' +\n",
              "            '<a target=\"_blank\" href=https://colab.research.google.com/notebooks/data_table.ipynb>data table notebook</a>'\n",
              "            + ' to learn more about interactive tables.';\n",
              "          element.innerHTML = '';\n",
              "          dataTable['output_type'] = 'display_data';\n",
              "          await google.colab.output.renderOutput(dataTable, element);\n",
              "          const docLink = document.createElement('div');\n",
              "          docLink.innerHTML = docLinkHtml;\n",
              "          element.appendChild(docLink);\n",
              "        }\n",
              "      </script>\n",
              "    </div>\n",
              "  </div>\n",
              "  "
            ]
          },
          "metadata": {},
          "execution_count": 107
        }
      ]
    }
  ],
  "metadata": {
    "kernelspec": {
      "display_name": "Python 3 (ipykernel)",
      "language": "python",
      "name": "python3"
    },
    "language_info": {
      "codemirror_mode": {
        "name": "ipython",
        "version": 3
      },
      "file_extension": ".py",
      "mimetype": "text/x-python",
      "name": "python",
      "nbconvert_exporter": "python",
      "pygments_lexer": "ipython3",
      "version": "3.9.7"
    },
    "colab": {
      "name": "LR4.ipynb",
      "provenance": [],
      "collapsed_sections": []
    }
  },
  "nbformat": 4,
  "nbformat_minor": 5
}