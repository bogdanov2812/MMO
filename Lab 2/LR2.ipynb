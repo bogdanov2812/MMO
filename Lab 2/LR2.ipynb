{
  "cells": [
    {
      "cell_type": "markdown",
      "id": "637f98c0",
      "metadata": {
        "id": "637f98c0"
      },
      "source": [
        "## МГТУ им. Н. Э. Баумана\n",
        "## Факультет: Информатика, искусственный интеллект и системы управления\n",
        "## Кафедра: Системы обработки информации и управления\n",
        "## Дисциплина: Методы машинного обучения\n",
        "## Лабораторная работа №2 \"Обработка признаков (часть 1)\"\n",
        "## Выполнил: Богданов Д. А. ИУ5-24М"
      ]
    },
    {
      "cell_type": "markdown",
      "id": "4484a8f5",
      "metadata": {
        "id": "4484a8f5"
      },
      "source": [
        "Задание:\n",
        "\n",
        "1. Выбрать набор данных (датасет), содержащий категориальные и числовые признаки и пропуски в данных. Для выполнения следующих пунктов можно использовать несколько различных наборов данных (один для обработки пропусков, другой для категориальных признаков и т.д.) Просьба не использовать датасет, на котором данная задача решалась в лекции.\n",
        "2. Для выбранного датасета (датасетов) на основе материалов лекций решить следующие задачи:\n",
        "    - устранение пропусков в данных;\n",
        "    - кодирование категориальных признаков;\n",
        "    - нормализацию числовых признаков."
      ]
    },
    {
      "cell_type": "code",
      "execution_count": 1,
      "id": "ea13bc43",
      "metadata": {
        "id": "ea13bc43"
      },
      "outputs": [],
      "source": [
        "import numpy as np\n",
        "import pandas as pd\n",
        "import seaborn as sns\n",
        "import matplotlib.pyplot as plt\n",
        "from sklearn.impute import SimpleImputer\n",
        "from sklearn.impute import MissingIndicator\n",
        "from sklearn.impute import KNNImputer\n",
        "from sklearn.preprocessing import StandardScaler\n",
        "from sklearn.preprocessing import LabelEncoder\n",
        "from sklearn.preprocessing import OneHotEncoder\n",
        "from sklearn.pipeline import Pipeline\n",
        "from sklearn.model_selection import GridSearchCV\n",
        "from sklearn.experimental import enable_iterative_imputer\n",
        "from sklearn.impute import IterativeImputer\n",
        "from IPython.display import Image\n",
        "import matplotlib.pyplot as plt\n",
        "import scipy.stats as stats\n",
        "%matplotlib inline \n",
        "sns.set(style=\"ticks\")"
      ]
    },
    {
      "cell_type": "code",
      "execution_count": 24,
      "id": "ee1ad40e",
      "metadata": {
        "colab": {
          "base_uri": "https://localhost:8080/",
          "height": 206
        },
        "id": "ee1ad40e",
        "outputId": "ba8957a0-bcc8-4204-a95e-ee43bf4a1e8f"
      },
      "outputs": [
        {
          "output_type": "execute_result",
          "data": {
            "text/plain": [
              "  Brand Model            Color Memory Storage  Rating  Selling Price  \\\n",
              "0  OPPO   A53  Moonlight Black   4 GB   64 GB     4.5          11990   \n",
              "1  OPPO   A53       Mint Cream   4 GB   64 GB     4.5          11990   \n",
              "2  OPPO   A53  Moonlight Black   6 GB  128 GB     4.3          13990   \n",
              "3  OPPO   A53       Mint Cream   6 GB  128 GB     4.3          13990   \n",
              "4  OPPO   A53   Electric Black   4 GB   64 GB     4.5          11990   \n",
              "\n",
              "   Original Price  \n",
              "0           15990  \n",
              "1           15990  \n",
              "2           17990  \n",
              "3           17990  \n",
              "4           15990  "
            ],
            "text/html": [
              "\n",
              "  <div id=\"df-9acc7f70-16df-474f-b671-9407718ea307\">\n",
              "    <div class=\"colab-df-container\">\n",
              "      <div>\n",
              "<style scoped>\n",
              "    .dataframe tbody tr th:only-of-type {\n",
              "        vertical-align: middle;\n",
              "    }\n",
              "\n",
              "    .dataframe tbody tr th {\n",
              "        vertical-align: top;\n",
              "    }\n",
              "\n",
              "    .dataframe thead th {\n",
              "        text-align: right;\n",
              "    }\n",
              "</style>\n",
              "<table border=\"1\" class=\"dataframe\">\n",
              "  <thead>\n",
              "    <tr style=\"text-align: right;\">\n",
              "      <th></th>\n",
              "      <th>Brand</th>\n",
              "      <th>Model</th>\n",
              "      <th>Color</th>\n",
              "      <th>Memory</th>\n",
              "      <th>Storage</th>\n",
              "      <th>Rating</th>\n",
              "      <th>Selling Price</th>\n",
              "      <th>Original Price</th>\n",
              "    </tr>\n",
              "  </thead>\n",
              "  <tbody>\n",
              "    <tr>\n",
              "      <th>0</th>\n",
              "      <td>OPPO</td>\n",
              "      <td>A53</td>\n",
              "      <td>Moonlight Black</td>\n",
              "      <td>4 GB</td>\n",
              "      <td>64 GB</td>\n",
              "      <td>4.5</td>\n",
              "      <td>11990</td>\n",
              "      <td>15990</td>\n",
              "    </tr>\n",
              "    <tr>\n",
              "      <th>1</th>\n",
              "      <td>OPPO</td>\n",
              "      <td>A53</td>\n",
              "      <td>Mint Cream</td>\n",
              "      <td>4 GB</td>\n",
              "      <td>64 GB</td>\n",
              "      <td>4.5</td>\n",
              "      <td>11990</td>\n",
              "      <td>15990</td>\n",
              "    </tr>\n",
              "    <tr>\n",
              "      <th>2</th>\n",
              "      <td>OPPO</td>\n",
              "      <td>A53</td>\n",
              "      <td>Moonlight Black</td>\n",
              "      <td>6 GB</td>\n",
              "      <td>128 GB</td>\n",
              "      <td>4.3</td>\n",
              "      <td>13990</td>\n",
              "      <td>17990</td>\n",
              "    </tr>\n",
              "    <tr>\n",
              "      <th>3</th>\n",
              "      <td>OPPO</td>\n",
              "      <td>A53</td>\n",
              "      <td>Mint Cream</td>\n",
              "      <td>6 GB</td>\n",
              "      <td>128 GB</td>\n",
              "      <td>4.3</td>\n",
              "      <td>13990</td>\n",
              "      <td>17990</td>\n",
              "    </tr>\n",
              "    <tr>\n",
              "      <th>4</th>\n",
              "      <td>OPPO</td>\n",
              "      <td>A53</td>\n",
              "      <td>Electric Black</td>\n",
              "      <td>4 GB</td>\n",
              "      <td>64 GB</td>\n",
              "      <td>4.5</td>\n",
              "      <td>11990</td>\n",
              "      <td>15990</td>\n",
              "    </tr>\n",
              "  </tbody>\n",
              "</table>\n",
              "</div>\n",
              "      <button class=\"colab-df-convert\" onclick=\"convertToInteractive('df-9acc7f70-16df-474f-b671-9407718ea307')\"\n",
              "              title=\"Convert this dataframe to an interactive table.\"\n",
              "              style=\"display:none;\">\n",
              "        \n",
              "  <svg xmlns=\"http://www.w3.org/2000/svg\" height=\"24px\"viewBox=\"0 0 24 24\"\n",
              "       width=\"24px\">\n",
              "    <path d=\"M0 0h24v24H0V0z\" fill=\"none\"/>\n",
              "    <path d=\"M18.56 5.44l.94 2.06.94-2.06 2.06-.94-2.06-.94-.94-2.06-.94 2.06-2.06.94zm-11 1L8.5 8.5l.94-2.06 2.06-.94-2.06-.94L8.5 2.5l-.94 2.06-2.06.94zm10 10l.94 2.06.94-2.06 2.06-.94-2.06-.94-.94-2.06-.94 2.06-2.06.94z\"/><path d=\"M17.41 7.96l-1.37-1.37c-.4-.4-.92-.59-1.43-.59-.52 0-1.04.2-1.43.59L10.3 9.45l-7.72 7.72c-.78.78-.78 2.05 0 2.83L4 21.41c.39.39.9.59 1.41.59.51 0 1.02-.2 1.41-.59l7.78-7.78 2.81-2.81c.8-.78.8-2.07 0-2.86zM5.41 20L4 18.59l7.72-7.72 1.47 1.35L5.41 20z\"/>\n",
              "  </svg>\n",
              "      </button>\n",
              "      \n",
              "  <style>\n",
              "    .colab-df-container {\n",
              "      display:flex;\n",
              "      flex-wrap:wrap;\n",
              "      gap: 12px;\n",
              "    }\n",
              "\n",
              "    .colab-df-convert {\n",
              "      background-color: #E8F0FE;\n",
              "      border: none;\n",
              "      border-radius: 50%;\n",
              "      cursor: pointer;\n",
              "      display: none;\n",
              "      fill: #1967D2;\n",
              "      height: 32px;\n",
              "      padding: 0 0 0 0;\n",
              "      width: 32px;\n",
              "    }\n",
              "\n",
              "    .colab-df-convert:hover {\n",
              "      background-color: #E2EBFA;\n",
              "      box-shadow: 0px 1px 2px rgba(60, 64, 67, 0.3), 0px 1px 3px 1px rgba(60, 64, 67, 0.15);\n",
              "      fill: #174EA6;\n",
              "    }\n",
              "\n",
              "    [theme=dark] .colab-df-convert {\n",
              "      background-color: #3B4455;\n",
              "      fill: #D2E3FC;\n",
              "    }\n",
              "\n",
              "    [theme=dark] .colab-df-convert:hover {\n",
              "      background-color: #434B5C;\n",
              "      box-shadow: 0px 1px 3px 1px rgba(0, 0, 0, 0.15);\n",
              "      filter: drop-shadow(0px 1px 2px rgba(0, 0, 0, 0.3));\n",
              "      fill: #FFFFFF;\n",
              "    }\n",
              "  </style>\n",
              "\n",
              "      <script>\n",
              "        const buttonEl =\n",
              "          document.querySelector('#df-9acc7f70-16df-474f-b671-9407718ea307 button.colab-df-convert');\n",
              "        buttonEl.style.display =\n",
              "          google.colab.kernel.accessAllowed ? 'block' : 'none';\n",
              "\n",
              "        async function convertToInteractive(key) {\n",
              "          const element = document.querySelector('#df-9acc7f70-16df-474f-b671-9407718ea307');\n",
              "          const dataTable =\n",
              "            await google.colab.kernel.invokeFunction('convertToInteractive',\n",
              "                                                     [key], {});\n",
              "          if (!dataTable) return;\n",
              "\n",
              "          const docLinkHtml = 'Like what you see? Visit the ' +\n",
              "            '<a target=\"_blank\" href=https://colab.research.google.com/notebooks/data_table.ipynb>data table notebook</a>'\n",
              "            + ' to learn more about interactive tables.';\n",
              "          element.innerHTML = '';\n",
              "          dataTable['output_type'] = 'display_data';\n",
              "          await google.colab.output.renderOutput(dataTable, element);\n",
              "          const docLink = document.createElement('div');\n",
              "          docLink.innerHTML = docLinkHtml;\n",
              "          element.appendChild(docLink);\n",
              "        }\n",
              "      </script>\n",
              "    </div>\n",
              "  </div>\n",
              "  "
            ]
          },
          "metadata": {},
          "execution_count": 24
        }
      ],
      "source": [
        "data = pd.read_csv('Flipkart_Mobiles.csv')\n",
        "data.head()"
      ]
    },
    {
      "cell_type": "code",
      "execution_count": 25,
      "id": "0d3dd635",
      "metadata": {
        "colab": {
          "base_uri": "https://localhost:8080/",
          "height": 0
        },
        "id": "0d3dd635",
        "outputId": "1ec9721a-7fa7-466f-82cc-3da1697ec454"
      },
      "outputs": [
        {
          "output_type": "execute_result",
          "data": {
            "text/plain": [
              "Brand              object\n",
              "Model              object\n",
              "Color              object\n",
              "Memory             object\n",
              "Storage            object\n",
              "Rating            float64\n",
              "Selling Price       int64\n",
              "Original Price      int64\n",
              "dtype: object"
            ]
          },
          "metadata": {},
          "execution_count": 25
        }
      ],
      "source": [
        "data.dtypes"
      ]
    },
    {
      "cell_type": "markdown",
      "source": [
        "# Устранение пропусков в данных\n"
      ],
      "metadata": {
        "id": "4VlqJewyxHkZ"
      },
      "id": "4VlqJewyxHkZ"
    },
    {
      "cell_type": "code",
      "source": [
        "# Колонки с пропусками\n",
        "hcols_with_na = [c for c in data.columns if data[c].isnull().sum() > 0]\n",
        "hcols_with_na"
      ],
      "metadata": {
        "colab": {
          "base_uri": "https://localhost:8080/",
          "height": 0
        },
        "id": "WH_mx6vHhpCu",
        "outputId": "2857498e-70bc-4058-b450-b98af89fae17"
      },
      "id": "WH_mx6vHhpCu",
      "execution_count": 26,
      "outputs": [
        {
          "output_type": "execute_result",
          "data": {
            "text/plain": [
              "['Memory', 'Storage', 'Rating']"
            ]
          },
          "metadata": {},
          "execution_count": 26
        }
      ]
    },
    {
      "cell_type": "code",
      "source": [
        "# Доля (процент) пропусков\n",
        "[(c, data[c].isnull().mean()) for c in hcols_with_na]"
      ],
      "metadata": {
        "colab": {
          "base_uri": "https://localhost:8080/",
          "height": 0
        },
        "id": "YdpqBjMrh74a",
        "outputId": "92d246b4-9513-4a35-e1ab-cc27cdbf0a99"
      },
      "id": "YdpqBjMrh74a",
      "execution_count": 27,
      "outputs": [
        {
          "output_type": "execute_result",
          "data": {
            "text/plain": [
              "[('Memory', 0.013808606294155427),\n",
              " ('Storage', 0.012524084778420038),\n",
              " ('Rating', 0.046242774566473986)]"
            ]
          },
          "metadata": {},
          "execution_count": 27
        }
      ]
    },
    {
      "cell_type": "code",
      "source": [
        "data.shape\n"
      ],
      "metadata": {
        "colab": {
          "base_uri": "https://localhost:8080/",
          "height": 0
        },
        "id": "58EXmOTTjRjS",
        "outputId": "aa4a008f-180a-4fd5-8310-2338cfddeac0"
      },
      "id": "58EXmOTTjRjS",
      "execution_count": 28,
      "outputs": [
        {
          "output_type": "execute_result",
          "data": {
            "text/plain": [
              "(3114, 8)"
            ]
          },
          "metadata": {},
          "execution_count": 28
        }
      ]
    },
    {
      "cell_type": "code",
      "source": [
        "data = data.dropna(axis=0, how='any')"
      ],
      "metadata": {
        "id": "lQ9u_FZajZ3D"
      },
      "id": "lQ9u_FZajZ3D",
      "execution_count": 29,
      "outputs": []
    },
    {
      "cell_type": "code",
      "execution_count": 30,
      "id": "ae577618",
      "metadata": {
        "colab": {
          "base_uri": "https://localhost:8080/",
          "height": 0
        },
        "id": "ae577618",
        "outputId": "e31741dd-9082-45ab-efb1-03af0a994c6a"
      },
      "outputs": [
        {
          "output_type": "execute_result",
          "data": {
            "text/plain": [
              "Brand             0\n",
              "Model             0\n",
              "Color             0\n",
              "Memory            0\n",
              "Storage           0\n",
              "Rating            0\n",
              "Selling Price     0\n",
              "Original Price    0\n",
              "dtype: int64"
            ]
          },
          "metadata": {},
          "execution_count": 30
        }
      ],
      "source": [
        "data.isnull().sum()\n"
      ]
    },
    {
      "cell_type": "code",
      "source": [
        "data.shape"
      ],
      "metadata": {
        "colab": {
          "base_uri": "https://localhost:8080/",
          "height": 0
        },
        "id": "o0hX-e5JjhKi",
        "outputId": "1567f9b9-453b-4b00-f8b1-b72cdd676710"
      },
      "id": "o0hX-e5JjhKi",
      "execution_count": 31,
      "outputs": [
        {
          "output_type": "execute_result",
          "data": {
            "text/plain": [
              "(2897, 8)"
            ]
          },
          "metadata": {},
          "execution_count": 31
        }
      ]
    },
    {
      "cell_type": "markdown",
      "source": [
        "# Кодирование категориальных признаков\n"
      ],
      "metadata": {
        "id": "m4zeZUoko2-0"
      },
      "id": "m4zeZUoko2-0"
    },
    {
      "cell_type": "markdown",
      "source": [
        "Кодирование категорий целочисленными значениями"
      ],
      "metadata": {
        "id": "s7cw7ZLrxU-Z"
      },
      "id": "s7cw7ZLrxU-Z"
    },
    {
      "cell_type": "code",
      "execution_count": 32,
      "id": "105b2a4f",
      "metadata": {
        "id": "105b2a4f"
      },
      "outputs": [],
      "source": [
        "date = LabelEncoder()\n",
        "date_transform = date.fit_transform(data['Memory'])"
      ]
    },
    {
      "cell_type": "code",
      "execution_count": 33,
      "id": "7e7e5593",
      "metadata": {
        "colab": {
          "base_uri": "https://localhost:8080/"
        },
        "id": "7e7e5593",
        "outputId": "05ca5d65-0a3a-4cdd-9ead-f5ccb661e947"
      },
      "outputs": [
        {
          "output_type": "execute_result",
          "data": {
            "text/plain": [
              "array(['4 GB', '6 GB', '3 GB', '8 GB', '2 GB', '12 GB', '1 GB', '512 MB',\n",
              "       '1.5 GB', '768 MB', '8 MB', '64 MB', '4 MB', '32 MB', '16 MB',\n",
              "       '4GB', '153 MB', '128 MB', '2 MB', '10 MB', '46 MB', '16 GB',\n",
              "       '100 MB', '30 MB'], dtype=object)"
            ]
          },
          "metadata": {},
          "execution_count": 33
        }
      ],
      "source": [
        "data['Memory'].unique()"
      ]
    },
    {
      "cell_type": "code",
      "execution_count": 34,
      "id": "9e32b708",
      "metadata": {
        "colab": {
          "base_uri": "https://localhost:8080/"
        },
        "id": "9e32b708",
        "outputId": "61bcf409-6bb6-44e7-febd-50e777ab2560"
      },
      "outputs": [
        {
          "output_type": "execute_result",
          "data": {
            "text/plain": [
              "array([ 0,  1,  2,  3,  4,  5,  6,  7,  8,  9, 10, 11, 12, 13, 14, 15, 16,\n",
              "       17, 18, 19, 20, 21, 22, 23])"
            ]
          },
          "metadata": {},
          "execution_count": 34
        }
      ],
      "source": [
        "np.unique(date_transform)"
      ]
    },
    {
      "cell_type": "markdown",
      "source": [
        "# Нормализация числовых признаков\n"
      ],
      "metadata": {
        "id": "vHbpk0mRsouG"
      },
      "id": "vHbpk0mRsouG"
    },
    {
      "cell_type": "code",
      "execution_count": 38,
      "id": "e27f4e71",
      "metadata": {
        "id": "e27f4e71"
      },
      "outputs": [],
      "source": [
        "def diagnostic_plots(df, variable):\n",
        "    plt.figure(figsize=(15,6))\n",
        "    plt.subplot(1, 2, 1)\n",
        "    df[variable].hist(bins=30)\n",
        "    plt.subplot(1, 2, 2)\n",
        "    stats.probplot(df[variable], dist=\"norm\", plot=plt)\n",
        "    plt.show()"
      ]
    },
    {
      "cell_type": "code",
      "execution_count": 41,
      "id": "bf3c2ce5",
      "metadata": {
        "colab": {
          "base_uri": "https://localhost:8080/",
          "height": 610
        },
        "id": "bf3c2ce5",
        "outputId": "96d4ea0f-8ea0-4178-d56a-c93b6409061c"
      },
      "outputs": [
        {
          "output_type": "display_data",
          "data": {
            "text/plain": [
              "<Figure size 720x720 with 4 Axes>"
            ],
            "image/png": "[encoded data removed]"
          },
          "metadata": {
            "needs_background": "light"
          }
        }
      ],
      "source": [
        "data.hist(figsize=(10,10))\n",
        "plt.show()"
      ]
    },
    {
      "cell_type": "markdown",
      "source": [
        "Исходное распределение"
      ],
      "metadata": {
        "id": "nelbtn4mw57D"
      },
      "id": "nelbtn4mw57D"
    },
    {
      "cell_type": "code",
      "execution_count": 45,
      "id": "c65567f9",
      "metadata": {
        "colab": {
          "base_uri": "https://localhost:8080/",
          "height": 410
        },
        "id": "c65567f9",
        "outputId": "35d08711-e2c7-410d-a6fa-19fb028df7f0"
      },
      "outputs": [
        {
          "output_type": "display_data",
          "data": {
            "text/plain": [
              "<Figure size 1080x432 with 2 Axes>"
            ],
            "image/png": "[encoded data removed]"
          },
          "metadata": {
            "needs_background": "light"
          }
        }
      ],
      "source": [
        "diagnostic_plots(data, 'Original Price')"
      ]
    },
    {
      "cell_type": "markdown",
      "source": [
        "Квадратный корень"
      ],
      "metadata": {
        "id": "ge4MRlLWw-CZ"
      },
      "id": "ge4MRlLWw-CZ"
    },
    {
      "cell_type": "code",
      "execution_count": 48,
      "id": "360b0909",
      "metadata": {
        "colab": {
          "base_uri": "https://localhost:8080/",
          "height": 410
        },
        "id": "360b0909",
        "outputId": "3fca99b6-e9a7-4faf-bd2a-f1e3a94f2e89"
      },
      "outputs": [
        {
          "output_type": "display_data",
          "data": {
            "text/plain": [
              "<Figure size 1080x432 with 2 Axes>"
            ],
            "image/png": "[encoded data removed]"
          },
          "metadata": {
            "needs_background": "light"
          }
        }
      ],
      "source": [
        "data['OrigPrice_sqr'] = data['Original Price']**(1/2) \n",
        "diagnostic_plots(data, 'OrigPrice_sqr')"
      ]
    },
    {
      "cell_type": "markdown",
      "source": [
        "Преобразование Бокса-Кокса"
      ],
      "metadata": {
        "id": "iv4384XbxEbx"
      },
      "id": "iv4384XbxEbx"
    },
    {
      "cell_type": "code",
      "execution_count": 47,
      "id": "234c6628",
      "metadata": {
        "colab": {
          "base_uri": "https://localhost:8080/",
          "height": 427
        },
        "id": "234c6628",
        "outputId": "eb4e6144-3f21-4de4-fca8-be2b1609cbd6"
      },
      "outputs": [
        {
          "output_type": "stream",
          "name": "stdout",
          "text": [
            "Оптимальное значение λ = -0.040893432711694704\n"
          ]
        },
        {
          "output_type": "display_data",
          "data": {
            "text/plain": [
              "<Figure size 1080x432 with 2 Axes>"
            ],
            "image/png": "[encoded data removed]"
          },
          "metadata": {
            "needs_background": "light"
          }
        }
      ],
      "source": [
        "data['OrigPrice_boxcox'], param = stats.boxcox(data['Original Price']) \n",
        "print('Оптимальное значение λ = {}'.format(param))\n",
        "diagnostic_plots(data, 'OrigPrice_boxcox')"
      ]
    },
    {
      "cell_type": "code",
      "execution_count": null,
      "id": "7032b2dd",
      "metadata": {
        "id": "7032b2dd"
      },
      "outputs": [],
      "source": [
        ""
      ]
    }
  ],
  "metadata": {
    "kernelspec": {
      "display_name": "Python 3 (ipykernel)",
      "language": "python",
      "name": "python3"
    },
    "language_info": {
      "codemirror_mode": {
        "name": "ipython",
        "version": 3
      },
      "file_extension": ".py",
      "mimetype": "text/x-python",
      "name": "python",
      "nbconvert_exporter": "python",
      "pygments_lexer": "ipython3",
      "version": "3.9.7"
    },
    "colab": {
      "name": "LR2.ipynb",
      "provenance": []
    }
  },
  "nbformat": 4,
  "nbformat_minor": 5
}